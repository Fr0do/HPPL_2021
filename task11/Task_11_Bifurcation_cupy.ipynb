{
 "cells": [
  {
   "cell_type": "code",
   "execution_count": 1,
   "id": "fd53c6a4",
   "metadata": {},
   "outputs": [],
   "source": [
    "import cupy as cp\n",
    "import numpy as np\n",
    "import matplotlib.pyplot as plt\n",
    "from tqdm import tqdm"
   ]
  },
  {
   "cell_type": "markdown",
   "id": "0c70aea2",
   "metadata": {},
   "source": [
    "## CuPy"
   ]
  },
  {
   "cell_type": "code",
   "execution_count": 2,
   "id": "d7f9d30f",
   "metadata": {},
   "outputs": [],
   "source": [
    "kernel=cp.ElementwiseKernel(\n",
    "    'float32 r,float32 x','float32 new_x',\n",
    "        '''new_x = r * x * (1-x)''',\n",
    "    'my_kernel')"
   ]
  },
  {
   "cell_type": "code",
   "execution_count": 3,
   "id": "85addd2c",
   "metadata": {},
   "outputs": [],
   "source": [
    "def return_last_points(kernel, r, x0, n, m):\n",
    "    x = x0\n",
    "    xsave = []\n",
    "    for i in np.arange(n + m):\n",
    "        x = kernel(r, x)\n",
    "        if i > n:\n",
    "            xsave.append(x)"
   ]
  },
  {
   "cell_type": "code",
   "execution_count": 4,
   "id": "780fd393",
   "metadata": {},
   "outputs": [
    {
     "name": "stdout",
     "output_type": "stream",
     "text": [
      "         189 function calls in 0.002 seconds\n",
      "\n",
      "   Ordered by: standard name\n",
      "\n",
      "   ncalls  tottime  percall  cumtime  percall filename:lineno(function)\n",
      "        1    0.002    0.002    0.002    0.002 1300334232.py:1(return_last_points)\n",
      "        1    0.000    0.000    0.002    0.002 <string>:1(<module>)\n",
      "        3    0.000    0.000    0.000    0.000 _collections_abc.py:657(get)\n",
      "        1    0.000    0.000    0.000    0.000 compiler.py:114(_get_nvrtc_version)\n",
      "        2    0.000    0.000    0.000    0.000 compiler.py:213(_get_bool_env_variable)\n",
      "        2    0.000    0.000    0.000    0.000 compiler.py:268(_hash_hexdigest)\n",
      "        1    0.000    0.000    0.000    0.000 compiler.py:447(get_cache_dir)\n",
      "        1    0.000    0.000    0.000    0.000 compiler.py:463(_compile_module_with_cache)\n",
      "        1    0.000    0.000    0.000    0.000 compiler.py:494(_compile_with_cache_cuda)\n",
      "        1    0.000    0.000    0.000    0.000 genericpath.py:16(exists)\n",
      "        1    0.000    0.000    0.000    0.000 genericpath.py:39(isdir)\n",
      "        3    0.000    0.000    0.000    0.000 os.py:670(__getitem__)\n",
      "        3    0.000    0.000    0.000    0.000 os.py:748(encode)\n",
      "        3    0.000    0.000    0.000    0.000 posixpath.py:41(_get_sep)\n",
      "        3    0.000    0.000    0.000    0.000 posixpath.py:71(join)\n",
      "        1    0.000    0.000    0.000    0.000 string.py:109(substitute)\n",
      "        7    0.000    0.000    0.000    0.000 string.py:115(convert)\n",
      "        1    0.000    0.000    0.000    0.000 string.py:92(__init__)\n",
      "        2    0.000    0.000    0.000    0.000 {built-in method _hashlib.openssl_sha1}\n",
      "        1    0.000    0.000    0.000    0.000 {built-in method _stat.S_ISDIR}\n",
      "        1    0.000    0.000    0.002    0.002 {built-in method builtins.exec}\n",
      "        6    0.000    0.000    0.000    0.000 {built-in method builtins.isinstance}\n",
      "        1    0.000    0.000    0.000    0.000 {built-in method builtins.len}\n",
      "        1    0.000    0.000    0.000    0.000 {built-in method io.open}\n",
      "        1    0.000    0.000    0.000    0.000 {built-in method numpy.arange}\n",
      "        3    0.000    0.000    0.000    0.000 {built-in method posix.fspath}\n",
      "        2    0.000    0.000    0.000    0.000 {built-in method posix.stat}\n",
      "       99    0.000    0.000    0.000    0.000 {method 'append' of 'list' objects}\n",
      "        1    0.000    0.000    0.000    0.000 {method 'disable' of '_lsprof.Profiler' objects}\n",
      "        5    0.000    0.000    0.000    0.000 {method 'encode' of 'str' objects}\n",
      "        5    0.000    0.000    0.000    0.000 {method 'endswith' of 'str' objects}\n",
      "        1    0.000    0.000    0.000    0.000 {method 'get' of 'dict' objects}\n",
      "       14    0.000    0.000    0.000    0.000 {method 'group' of 're.Match' objects}\n",
      "        2    0.000    0.000    0.000    0.000 {method 'hexdigest' of '_hashlib.HASH' objects}\n",
      "        1    0.000    0.000    0.000    0.000 {method 'load' of 'cupy.cuda.function.Module' objects}\n",
      "        1    0.000    0.000    0.000    0.000 {method 'read' of '_io.BufferedReader' objects}\n",
      "        5    0.000    0.000    0.000    0.000 {method 'startswith' of 'str' objects}\n",
      "        1    0.000    0.000    0.000    0.000 {method 'sub' of 're.Pattern' objects}\n",
      "\n",
      "\n"
     ]
    }
   ],
   "source": [
    "import cProfile\n",
    "r_space = cp.linspace(2, 4, 4000, dtype='f')\n",
    "x_space = cp.ones(4000, dtype='f')*0.5\n",
    "cProfile.run('return_last_points(kernel, r_space, x_space, 200, 100)')"
   ]
  },
  {
   "cell_type": "code",
   "execution_count": 5,
   "id": "276fb97c",
   "metadata": {},
   "outputs": [
    {
     "name": "stderr",
     "output_type": "stream",
     "text": [
      "100%|███████████████████████████████████████████| 20/20 [00:18<00:00,  1.05it/s]\n"
     ]
    }
   ],
   "source": [
    "sizes = np.logspace(1, 6, 20)\n",
    "cp_time = []\n",
    "\n",
    "for n in tqdm(sizes):\n",
    "    r_space = cp.linspace(0, 4, int(n), dtype='f')\n",
    "    x_space = cp.ones(int(n), dtype='f') * 0.5\n",
    "    t_cp = %timeit -o -n 100 -r 4 -q return_last_points(kernel, r_space, x_space, 200, 100)\n",
    "    cp_time.append(t_cp)"
   ]
  },
  {
   "cell_type": "markdown",
   "id": "1d76b042",
   "metadata": {},
   "source": [
    "## NumPy"
   ]
  },
  {
   "cell_type": "code",
   "execution_count": 6,
   "id": "5e47b458",
   "metadata": {},
   "outputs": [],
   "source": [
    "def logistic_function(r, x):\n",
    "    return r*x*(1-x)\n",
    "\n",
    "def return_last_points_ordinary(map_function, r, x0, n, m):\n",
    "    xsave = []\n",
    "    x = x0\n",
    "    for i in np.arange(n + m):\n",
    "        x = map_function(r, x)\n",
    "        if i > m:\n",
    "            xsave.append(x)\n",
    "    return xsave\n",
    "\n",
    "def eval_rs(rs):\n",
    "    for r in rs:\n",
    "        xx = return_last_points_ordinary(logistic_function, r, 0.5, 200, 100)"
   ]
  },
  {
   "cell_type": "code",
   "execution_count": 7,
   "id": "6b90511e",
   "metadata": {},
   "outputs": [
    {
     "name": "stderr",
     "output_type": "stream",
     "text": [
      "100%|███████████████████████████████████████████| 10/10 [00:12<00:00,  1.21s/it]\n"
     ]
    }
   ],
   "source": [
    "np_time = []\n",
    "for n in tqdm(sizes[:10]):\n",
    "    rs = np.linspace(0, 4, int(n))\n",
    "    t_np = %timeit -o -n 5 -r 4 -q eval_rs(rs)\n",
    "    np_time.append(t_np)"
   ]
  },
  {
   "cell_type": "markdown",
   "id": "c6b0a30d",
   "metadata": {},
   "source": [
    "## MPI\n",
    "I will use 4 processes as it proved to be the optimal amount."
   ]
  },
  {
   "cell_type": "code",
   "execution_count": 8,
   "id": "8917f42a",
   "metadata": {},
   "outputs": [
    {
     "name": "stdout",
     "output_type": "stream",
     "text": [
      "Overwriting logistic_map.py\n"
     ]
    }
   ],
   "source": [
    "%%writefile logistic_map.py\n",
    "\n",
    "# MPI implementation\n",
    "\n",
    "import numpy as np\n",
    "from mpi4py import MPI\n",
    "import matplotlib.pyplot as plt\n",
    "import time\n",
    "import sys\n",
    "\n",
    "\n",
    "def logistic_map(x, r):\n",
    "    return r*x*(1-x)\n",
    "\n",
    "def bm_np(points=400, rs=None):\n",
    "    # I will skip first 500 values and then plot following 32 values\n",
    "    if rs is None:\n",
    "        rs = np.linspace(0, 3.99, points)\n",
    "        xn = np.array([0.5]*points)\n",
    "    else:\n",
    "        xn = np.array([0.5]*len(rs))\n",
    "    n = 500  # skip first 500 values\n",
    "    m = 32  # save last 32 values\n",
    "\n",
    "    xs = np.zeros(points*m)\n",
    "    ys = np.zeros(points*m)\n",
    "        \n",
    "    # skip first \"n\" values\n",
    "    for _ in range(n):\n",
    "        xn = logistic_map(xn, rs)\n",
    "    \n",
    "    # save last \"m\" values\n",
    "    for i in range(m):\n",
    "        ys[i*points : (i+1)*points] = xn\n",
    "        xs[i*points : (i+1)*points] = rs\n",
    "        xn = logistic_map(xn, rs)\n",
    "    \n",
    "    return xs, ys\n",
    "\n",
    "\n",
    "def main(points):\n",
    "    # Mantra\n",
    "    comm = MPI.COMM_WORLD\n",
    "    size = comm.Get_size()\n",
    "    rank = comm.Get_rank()\n",
    "    samples = points\n",
    "    m = 32\n",
    "\n",
    "    # Data preparation\n",
    "    if rank == 0:\n",
    "        rs = np.linspace(0, 3.99, samples)\n",
    "\n",
    "        # count the size of the array of each process\n",
    "        quot, rem = divmod(samples, size)\n",
    "        chunk_sizes = [quot + 1 if i < rem else quot for i in range(size)]\n",
    "        chunk_sizes = np.array(chunk_sizes)\n",
    "\n",
    "        # the starting index of each process (displacement or shift)\n",
    "        chunk_displs = [sum(chunk_sizes[:i]) for i in range(size)]\n",
    "        chunk_displs = np.array(chunk_displs)\n",
    "        \n",
    "        ys_sizes = chunk_sizes*m\n",
    "        ys_displs = chunk_displs*m\n",
    "        \n",
    "        ys = np.zeros(samples*m, dtype=np.double)\n",
    "        xs = np.zeros(samples*m, dtype=np.double)\n",
    "    else:      \n",
    "        chunk_sizes = np.zeros(size, dtype=int)\n",
    "        ys_sizes = np.zeros(size, dtype=int)\n",
    "        \n",
    "        rs = None\n",
    "        chunk_displs = None\n",
    "        ys_displs = None\n",
    "        ys = None\n",
    "        xs = None\n",
    "    \n",
    "    # Broadcasting\n",
    "    comm.Bcast(chunk_sizes)\n",
    "    comm.Bcast(ys_sizes)\n",
    "    \n",
    "    # buffer for scattering\n",
    "    rs_chunk = np.zeros(chunk_sizes[rank], dtype=np.double)\n",
    "    \n",
    "    # Scattering data\n",
    "    comm.Scatterv([rs, chunk_sizes, chunk_displs, MPI.DOUBLE], rs_chunk)\n",
    "    \n",
    "    # Parallel computing\n",
    "    xs_chunk, ys_chunk = bm_np(chunk_sizes[rank], rs_chunk)\n",
    "    \n",
    "    # Gathering back\n",
    "    comm.Gatherv(ys_chunk, [ys, ys_sizes, ys_displs, MPI.DOUBLE])\n",
    "    comm.Gatherv(xs_chunk, [xs, ys_sizes, ys_displs, MPI.DOUBLE])\n",
    "    \n",
    "    # Saving\n",
    "    if rank == 0:\n",
    "        return (xs, ys)\n",
    "    return None\n",
    "\n",
    "\n",
    "if __name__ == \"__main__\":\n",
    "    if len(sys.argv) == 2:\n",
    "        points = int(sys.argv[1])\n",
    "    else:\n",
    "        points = 400\n",
    "    \n",
    "    # Logistic map calculation\n",
    "    start = time.perf_counter()\n",
    "    ans = main(points)\n",
    "    elapsed = time.perf_counter() - start\n",
    "    \n",
    "    if MPI.COMM_WORLD.Get_rank() == 0:\n",
    "        print(elapsed)"
   ]
  },
  {
   "cell_type": "code",
   "execution_count": 9,
   "id": "8a930199",
   "metadata": {},
   "outputs": [
    {
     "name": "stderr",
     "output_type": "stream",
     "text": [
      "100%|███████████████████████████████████████████| 20/20 [00:11<00:00,  1.75it/s]\n"
     ]
    }
   ],
   "source": [
    "mpi_time = []\n",
    "for n in tqdm(sizes):\n",
    "    size = int(n)\n",
    "    t_mpi = ! mpiexec -n 4 python3 ./logistic_map.py $size\n",
    "    mpi_time.append(float(t_mpi[0]))"
   ]
  },
  {
   "cell_type": "code",
   "execution_count": 10,
   "id": "ad632a30",
   "metadata": {},
   "outputs": [
    {
     "data": {
      "text/plain": [
       "[<TimeitResult : 1.39 ms ± 318 µs per loop (mean ± std. dev. of 4 runs, 5 loops each)>,\n",
       " <TimeitResult : 2.17 ms ± 7.02 µs per loop (mean ± std. dev. of 4 runs, 5 loops each)>,\n",
       " <TimeitResult : 3.99 ms ± 6.47 µs per loop (mean ± std. dev. of 4 runs, 5 loops each)>,\n",
       " <TimeitResult : 7.33 ms ± 19.7 µs per loop (mean ± std. dev. of 4 runs, 5 loops each)>,\n",
       " <TimeitResult : 13.5 ms ± 85.7 µs per loop (mean ± std. dev. of 4 runs, 5 loops each)>,\n",
       " <TimeitResult : 24.7 ms ± 389 µs per loop (mean ± std. dev. of 4 runs, 5 loops each)>,\n",
       " <TimeitResult : 44.9 ms ± 187 µs per loop (mean ± std. dev. of 4 runs, 5 loops each)>,\n",
       " <TimeitResult : 82.2 ms ± 182 µs per loop (mean ± std. dev. of 4 runs, 5 loops each)>,\n",
       " <TimeitResult : 149 ms ± 805 µs per loop (mean ± std. dev. of 4 runs, 5 loops each)>,\n",
       " <TimeitResult : 276 ms ± 2.34 ms per loop (mean ± std. dev. of 4 runs, 5 loops each)>]"
      ]
     },
     "execution_count": 10,
     "metadata": {},
     "output_type": "execute_result"
    }
   ],
   "source": [
    "np_time"
   ]
  },
  {
   "cell_type": "code",
   "execution_count": 11,
   "id": "00574dc3",
   "metadata": {},
   "outputs": [
    {
     "data": {
      "text/plain": [
       "[<TimeitResult : 1.82 ms ± 21.2 µs per loop (mean ± std. dev. of 4 runs, 100 loops each)>,\n",
       " <TimeitResult : 1.79 ms ± 11.1 µs per loop (mean ± std. dev. of 4 runs, 100 loops each)>,\n",
       " <TimeitResult : 1.82 ms ± 6.33 µs per loop (mean ± std. dev. of 4 runs, 100 loops each)>,\n",
       " <TimeitResult : 1.84 ms ± 10.7 µs per loop (mean ± std. dev. of 4 runs, 100 loops each)>,\n",
       " <TimeitResult : 1.84 ms ± 2.65 µs per loop (mean ± std. dev. of 4 runs, 100 loops each)>,\n",
       " <TimeitResult : 1.84 ms ± 9.52 µs per loop (mean ± std. dev. of 4 runs, 100 loops each)>,\n",
       " <TimeitResult : 1.83 ms ± 23.6 µs per loop (mean ± std. dev. of 4 runs, 100 loops each)>,\n",
       " <TimeitResult : 1.82 ms ± 10.6 µs per loop (mean ± std. dev. of 4 runs, 100 loops each)>,\n",
       " <TimeitResult : 1.84 ms ± 12.1 µs per loop (mean ± std. dev. of 4 runs, 100 loops each)>,\n",
       " <TimeitResult : 1.8 ms ± 10.8 µs per loop (mean ± std. dev. of 4 runs, 100 loops each)>,\n",
       " <TimeitResult : 1.74 ms ± 19.3 µs per loop (mean ± std. dev. of 4 runs, 100 loops each)>,\n",
       " <TimeitResult : 1.73 ms ± 7.86 µs per loop (mean ± std. dev. of 4 runs, 100 loops each)>,\n",
       " <TimeitResult : 1.77 ms ± 55.7 µs per loop (mean ± std. dev. of 4 runs, 100 loops each)>,\n",
       " <TimeitResult : 1.78 ms ± 37.2 µs per loop (mean ± std. dev. of 4 runs, 100 loops each)>,\n",
       " <TimeitResult : 1.78 ms ± 5.05 µs per loop (mean ± std. dev. of 4 runs, 100 loops each)>,\n",
       " <TimeitResult : 1.79 ms ± 9.09 µs per loop (mean ± std. dev. of 4 runs, 100 loops each)>,\n",
       " <TimeitResult : 1.86 ms ± 65.6 µs per loop (mean ± std. dev. of 4 runs, 100 loops each)>,\n",
       " <TimeitResult : 1.83 ms ± 68.4 µs per loop (mean ± std. dev. of 4 runs, 100 loops each)>,\n",
       " <TimeitResult : 5.14 ms ± 156 µs per loop (mean ± std. dev. of 4 runs, 100 loops each)>,\n",
       " <TimeitResult : 9.76 ms ± 230 µs per loop (mean ± std. dev. of 4 runs, 100 loops each)>]"
      ]
     },
     "execution_count": 11,
     "metadata": {},
     "output_type": "execute_result"
    }
   ],
   "source": [
    "cp_time"
   ]
  },
  {
   "cell_type": "code",
   "execution_count": 12,
   "id": "19e375e3",
   "metadata": {},
   "outputs": [
    {
     "data": {
      "text/plain": [
       "[0.004198608992737718,\n",
       " 0.007470926997484639,\n",
       " 0.0012826360034523532,\n",
       " 0.002071808004984632,\n",
       " 0.001585648991749622,\n",
       " 0.04334483500861097,\n",
       " 0.016174032993149012,\n",
       " 0.0016821199969854206,\n",
       " 0.0018334269989281893,\n",
       " 0.03032633601105772,\n",
       " 0.003805405998718925,\n",
       " 0.006999345001531765,\n",
       " 0.011002433995599858,\n",
       " 0.007977675006259233,\n",
       " 0.01512885800912045,\n",
       " 0.041039233008632436,\n",
       " 0.045124498996301554,\n",
       " 0.12889277999056503,\n",
       " 0.27476926799863577,\n",
       " 0.5588693609897746]"
      ]
     },
     "execution_count": 12,
     "metadata": {},
     "output_type": "execute_result"
    }
   ],
   "source": [
    "mpi_time"
   ]
  },
  {
   "cell_type": "code",
   "execution_count": 17,
   "id": "1c8f898e",
   "metadata": {},
   "outputs": [
    {
     "data": {
      "image/png": "[encoded data removed]",
      "text/plain": [
       "<Figure size 720x432 with 1 Axes>"
      ]
     },
     "metadata": {
      "needs_background": "light"
     },
     "output_type": "display_data"
    }
   ],
   "source": [
    "plt.figure(figsize=(10,6))\n",
    "plt.plot(sizes, [i.average for i in cp_time])\n",
    "plt.plot(sizes[:10], [i.average for i in np_time])\n",
    "plt.plot(sizes, mpi_time)\n",
    "plt.title('Bifurcation evaluation time - linear scale', fontsize=16)\n",
    "plt.xlabel('Array size', fontsize=14)\n",
    "plt.xscale('log')\n",
    "plt.ylabel('Time, s', fontsize=14)\n",
    "plt.xticks(fontsize=14)\n",
    "plt.yticks(fontsize=14)\n",
    "plt.legend(['cupy', 'numpy', 'mpi'], fontsize=14);\n",
    "plt.grid()\n",
    "plt.show()"
   ]
  },
  {
   "cell_type": "markdown",
   "id": "cfaa410c",
   "metadata": {},
   "source": [
    "CuPy wins!"
   ]
  }
 ],
 "metadata": {
  "kernelspec": {
   "display_name": "Python 3 (ipykernel)",
   "language": "python",
   "name": "python3"
  },
  "language_info": {
   "codemirror_mode": {
    "name": "ipython",
    "version": 3
   },
   "file_extension": ".py",
   "mimetype": "text/x-python",
   "name": "python",
   "nbconvert_exporter": "python",
   "pygments_lexer": "ipython3",
   "version": "3.8.10"
  }
 },
 "nbformat": 4,
 "nbformat_minor": 5
}
